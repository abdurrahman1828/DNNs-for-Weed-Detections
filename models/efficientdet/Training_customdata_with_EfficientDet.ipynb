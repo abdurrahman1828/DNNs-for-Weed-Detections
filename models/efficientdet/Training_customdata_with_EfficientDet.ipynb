{
 "cells": [
  {
   "cell_type": "code",
   "execution_count": null,
   "id": "3303a12a",
   "metadata": {},
   "outputs": [],
   "source": [
    "import tensorflow as tf\n",
    "if tf.test.gpu_device_name():\n",
    "    print('Default GPU Device: {}'.format(tf.test.gpu_device_name()))\n",
    "else:\n",
    "    print(\"Please install GPU version of TF\")"
   ]
  },
  {
   "cell_type": "code",
   "execution_count": null,
   "id": "c6c6cc40",
   "metadata": {},
   "outputs": [],
   "source": [
    "python train.py --model-type d0  --use-pretrain True --dataset-type coco --num-classes 3 --class-names dataset/weed.names --dataset D:/Abdur/centernet_data/train --coco-train-set train2017 --coco-val-set val2017 --epochs 500 --batch-size 16"
   ]
  }
 ],
 "metadata": {
  "kernelspec": {
   "display_name": "efficientdet(tf)",
   "language": "python",
   "name": "efficientdet2"
  },
  "language_info": {
   "codemirror_mode": {
    "name": "ipython",
    "version": 3
   },
   "file_extension": ".py",
   "mimetype": "text/x-python",
   "name": "python",
   "nbconvert_exporter": "python",
   "pygments_lexer": "ipython3",
   "version": "3.9.7"
  }
 },
 "nbformat": 4,
 "nbformat_minor": 5
}
